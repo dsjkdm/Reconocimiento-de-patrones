{
 "cells": [
  {
   "cell_type": "code",
   "execution_count": 90,
   "metadata": {},
   "outputs": [],
   "source": [
    "import cv2\n",
    "import numpy as np\n",
    "import matplotlib.pyplot as plt\n",
    "%matplotlib inline"
   ]
  },
  {
   "cell_type": "markdown",
   "metadata": {},
   "source": [
    "# Practica 1\n",
    "La practica consiste de una introduccion a la asignatura de reconocimiento de patrones."
   ]
  },
  {
   "cell_type": "markdown",
   "metadata": {},
   "source": [
    "### 1. Basicos"
   ]
  },
  {
   "cell_type": "code",
   "execution_count": 8,
   "metadata": {},
   "outputs": [
    {
     "name": "stdout",
     "output_type": "stream",
     "text": [
      "[[1 2 3]\n",
      " [4 5 6]\n",
      " [7 8 9]]\n"
     ]
    }
   ],
   "source": [
    "# Declaracion de un arreglo bidimensional\n",
    "A = [[1,2,3],\n",
    "     [4,5,6],\n",
    "     [7,8,9]]\n",
    "A = np.array(A)\n",
    "print(A)"
   ]
  },
  {
   "cell_type": "markdown",
   "metadata": {},
   "source": [
    "### 2. Tipos basicos"
   ]
  },
  {
   "cell_type": "markdown",
   "metadata": {},
   "source": [
    "#### A. Escalares, vectores y matrices"
   ]
  },
  {
   "cell_type": "code",
   "execution_count": 52,
   "metadata": {},
   "outputs": [],
   "source": [
    "A = np.array([[1,0],\n",
    "              [0,1]])              # Matriz 2x2\n",
    "n = 5                              # Escalar"
   ]
  },
  {
   "cell_type": "code",
   "execution_count": 231,
   "metadata": {},
   "outputs": [
    {
     "name": "stdout",
     "output_type": "stream",
     "text": [
      "Vector renglon:\n",
      "\n",
      "[[1 2 3]]\n",
      "\n",
      "Dimension:  (1, 3)\n"
     ]
    }
   ],
   "source": [
    "# Vector renglon\n",
    "vr = np.array([[1,2,3]])              \n",
    "\n",
    "print(\"Vector renglon:\\n\")\n",
    "print(vr)\n",
    "print(\"\\nDimension: \", vr.shape)"
   ]
  },
  {
   "cell_type": "code",
   "execution_count": 50,
   "metadata": {},
   "outputs": [
    {
     "name": "stdout",
     "output_type": "stream",
     "text": [
      "\n",
      "Vector columna:\n",
      "\n",
      "[[1]\n",
      " [2]\n",
      " [3]]\n",
      "\n",
      "Dimension:  (3, 1)\n"
     ]
    }
   ],
   "source": [
    "# Vector columna\n",
    "vc = np.array([[1], \n",
    "               [2],\n",
    "               [3]])\n",
    "\n",
    "print(\"\\nVector columna:\\n\")\n",
    "print(vc)\n",
    "print(\"\\nDimension: \", vc.shape)"
   ]
  },
  {
   "cell_type": "code",
   "execution_count": 232,
   "metadata": {},
   "outputs": [
    {
     "name": "stdout",
     "output_type": "stream",
     "text": [
      "\n",
      "Dimensiones vc a vr:  (1, 3)\n",
      "\n",
      "Dimensiones vr a vc:  (3, 1)\n"
     ]
    }
   ],
   "source": [
    "# Transpuesta de un vector\n",
    "print(\"\\nDimensiones vc a vr: \", vc.transpose().shape)\n",
    "print(\"\\nDimensiones vr a vc: \", vr.transpose().shape)"
   ]
  },
  {
   "cell_type": "code",
   "execution_count": 56,
   "metadata": {},
   "outputs": [
    {
     "name": "stdout",
     "output_type": "stream",
     "text": [
      "\n",
      "VECTOR RANGO M1: \n",
      "[1 2 3 4 5 6 7 8 9]\n",
      "\n",
      "VECTOR RANGO M2: \n",
      "[ 1.          1.47368421  1.94736842  2.42105263  2.89473684  3.36842105\n",
      "  3.84210526  4.31578947  4.78947368  5.26315789  5.73684211  6.21052632\n",
      "  6.68421053  7.15789474  7.63157895  8.10526316  8.57894737  9.05263158\n",
      "  9.52631579 10.        ]\n"
     ]
    }
   ],
   "source": [
    "# Vector en un rango de numeros especifico (exclusivo)\n",
    "v = np.arange(1,10)                    # Metodo 1 -> arange()\n",
    "v1 = np.linspace(1,10,20)              # Metodo 2 -> linspace() \n",
    "print(\"\\nVECTOR RANGO M1: \")\n",
    "print(v)\n",
    "print(\"\\nVECTOR RANGO M2: \")\n",
    "print(v1)"
   ]
  },
  {
   "cell_type": "markdown",
   "metadata": {},
   "source": [
    "#### B. Creacion de matrices especiales"
   ]
  },
  {
   "cell_type": "code",
   "execution_count": 72,
   "metadata": {},
   "outputs": [
    {
     "name": "stdout",
     "output_type": "stream",
     "text": [
      "Matriz de ceros:\n",
      "\n",
      "[[0. 0. 0.]\n",
      " [0. 0. 0.]\n",
      " [0. 0. 0.]]\n",
      "\n",
      "Matriz de unos:\n",
      "\n",
      "[[1. 1. 1.]\n",
      " [1. 1. 1.]\n",
      " [1. 1. 1.]]\n",
      "\n",
      "Matriz identidad:\n",
      "\n",
      "[[1. 0. 0.]\n",
      " [0. 1. 0.]\n",
      " [0. 0. 1.]]\n",
      "\n",
      "Matriz aleatoria:\n",
      "\n",
      "[[0.58542607 0.88766143 0.5157679 ]\n",
      " [0.68192022 0.63668578 0.71177212]\n",
      " [0.8831329  0.52988192 0.49922324]]\n"
     ]
    }
   ],
   "source": [
    "m1 = np.zeros((3,3))             # Matriz de ceros   (renglones, columnas)\n",
    "m2 = np.ones((3,3))              # Matriz de unos    (renglones, columnas)\n",
    "m3 = np.eye(3)                   # Matriz identidad\n",
    "m4 = np.random.rand(3,3)         # Matriz aleatoria  (renglones, columnas)\n",
    "\n",
    "print(\"Matriz de ceros:\\n\")\n",
    "print(m1)\n",
    "print(\"\\nMatriz de unos:\\n\")\n",
    "print(m2)\n",
    "print(\"\\nMatriz identidad:\\n\")\n",
    "print(m3)\n",
    "print(\"\\nMatriz aleatoria:\\n\")\n",
    "print(m4)"
   ]
  },
  {
   "cell_type": "markdown",
   "metadata": {},
   "source": [
    "#### C. Indices en vectores y matrices"
   ]
  },
  {
   "cell_type": "code",
   "execution_count": 115,
   "metadata": {},
   "outputs": [
    {
     "name": "stdout",
     "output_type": "stream",
     "text": [
      "Vector: \n",
      "[1 2 3 4 5 6 7 8 9]\n",
      "\n",
      "Matriz\n",
      "[[ 1  2  3  4]\n",
      " [ 5  6  7  8]\n",
      " [ 9 10 11 12]]\n"
     ]
    }
   ],
   "source": [
    "v = np.arange(1,10)\n",
    "m = np.array([[1,2,3,4],\n",
    "              [5,6,7,8],\n",
    "              [9,10,11,12]])\n",
    "\n",
    "print(\"Vector: \")\n",
    "print(v)\n",
    "print(\"\\nMatriz\")\n",
    "print(m)"
   ]
  },
  {
   "cell_type": "code",
   "execution_count": 76,
   "metadata": {},
   "outputs": [
    {
     "name": "stdout",
     "output_type": "stream",
     "text": [
      "1\n"
     ]
    }
   ],
   "source": [
    "print(v[0])                       # Acceder a un elemento del vector"
   ]
  },
  {
   "cell_type": "code",
   "execution_count": 116,
   "metadata": {},
   "outputs": [
    {
     "name": "stdout",
     "output_type": "stream",
     "text": [
      "2\n"
     ]
    }
   ],
   "source": [
    "print(m[0,1])                     # Acceder a un elemento de la matriz"
   ]
  },
  {
   "cell_type": "code",
   "execution_count": 117,
   "metadata": {},
   "outputs": [
    {
     "name": "stdout",
     "output_type": "stream",
     "text": [
      "[1 2 3 4]\n"
     ]
    }
   ],
   "source": [
    "print(m[0,:])                     # Acceder a un renglon de la matriz (primero)"
   ]
  },
  {
   "cell_type": "code",
   "execution_count": 118,
   "metadata": {},
   "outputs": [
    {
     "name": "stdout",
     "output_type": "stream",
     "text": [
      "[ 2  6 10]\n"
     ]
    }
   ],
   "source": [
    "print(m[:,1])                     # Acceder a una columna de la matriz (segunda)"
   ]
  },
  {
   "cell_type": "code",
   "execution_count": 119,
   "metadata": {},
   "outputs": [
    {
     "name": "stdout",
     "output_type": "stream",
     "text": [
      "[5 6]\n"
     ]
    }
   ],
   "source": [
    "print(m[1,0:2])                   # Acceder a los primeros dos elementos del renglon 1"
   ]
  },
  {
   "cell_type": "code",
   "execution_count": 120,
   "metadata": {},
   "outputs": [
    {
     "name": "stdout",
     "output_type": "stream",
     "text": [
      "[3 7]\n"
     ]
    }
   ],
   "source": [
    "print(m[0:2,2])                   # Acceder a los primeros dos elementos de la columna 3"
   ]
  },
  {
   "cell_type": "code",
   "execution_count": 121,
   "metadata": {},
   "outputs": [
    {
     "name": "stdout",
     "output_type": "stream",
     "text": [
      "[ 7 11]\n"
     ]
    }
   ],
   "source": [
    "print(m[1:,2])                    # Acceder a los ultimos elementos de la columna 3"
   ]
  },
  {
   "cell_type": "code",
   "execution_count": 125,
   "metadata": {},
   "outputs": [
    {
     "name": "stdout",
     "output_type": "stream",
     "text": [
      "Filas:  3\n",
      "Columnas:  4\n"
     ]
    }
   ],
   "source": [
    "print(\"Filas: \", m.shape[0])      # Numero de filas\n",
    "print(\"Columnas: \", m.shape[1])   # Numero de columnas"
   ]
  },
  {
   "cell_type": "code",
   "execution_count": 129,
   "metadata": {},
   "outputs": [
    {
     "name": "stdout",
     "output_type": "stream",
     "text": [
      "[[0. 0. 0. 0.]\n",
      " [0. 0. 0. 0.]\n",
      " [0. 0. 0. 0.]]\n"
     ]
    }
   ],
   "source": [
    "mNew = np.zeros(m.shape)          # Crear matrix con las dimensiones de m \n",
    "print(mNew)"
   ]
  },
  {
   "cell_type": "code",
   "execution_count": 131,
   "metadata": {},
   "outputs": [
    {
     "data": {
      "text/plain": [
       "numpy.ndarray"
      ]
     },
     "execution_count": 131,
     "metadata": {},
     "output_type": "execute_result"
    }
   ],
   "source": [
    "type(m)                            # Obtener informacion del tipo de dato"
   ]
  },
  {
   "cell_type": "markdown",
   "metadata": {},
   "source": [
    "### 3. Operaciones simples con vectores y matrices"
   ]
  },
  {
   "cell_type": "markdown",
   "metadata": {},
   "source": [
    "#### A. Operaciones elemento a elemento"
   ]
  },
  {
   "cell_type": "code",
   "execution_count": 204,
   "metadata": {},
   "outputs": [
    {
     "name": "stdout",
     "output_type": "stream",
     "text": [
      "Vector a:\n",
      "[[1]\n",
      " [2]\n",
      " [3]\n",
      " [4]]\n",
      "\n",
      "Vector b:\n",
      "[[5]\n",
      " [6]\n",
      " [7]\n",
      " [7]]\n"
     ]
    }
   ],
   "source": [
    "a = np.array([1,2,3,4]).transpose()   # Vector columna 1\n",
    "a.shape = (4, 1)\n",
    "\n",
    "b = np.array([5,6,7,7]).transpose()   # Vector columna 2\n",
    "b.shape = (4, 1)\n",
    "\n",
    "print(\"Vector a:\")\n",
    "print(a)\n",
    "print(\"\\nVector b:\")\n",
    "print(b)"
   ]
  },
  {
   "cell_type": "code",
   "execution_count": 149,
   "metadata": {},
   "outputs": [
    {
     "data": {
      "text/plain": [
       "array([[2],\n",
       "       [4],\n",
       "       [6],\n",
       "       [8]])"
      ]
     },
     "execution_count": 149,
     "metadata": {},
     "output_type": "execute_result"
    }
   ],
   "source": [
    "2 * a                                 # Multiplicacion por un escalar"
   ]
  },
  {
   "cell_type": "code",
   "execution_count": 151,
   "metadata": {},
   "outputs": [
    {
     "data": {
      "text/plain": [
       "array([[0.25],\n",
       "       [0.5 ],\n",
       "       [0.75],\n",
       "       [1.  ]])"
      ]
     },
     "execution_count": 151,
     "metadata": {},
     "output_type": "execute_result"
    }
   ],
   "source": [
    "a / 4                                 # Division por un escalar"
   ]
  },
  {
   "cell_type": "code",
   "execution_count": 172,
   "metadata": {},
   "outputs": [
    {
     "data": {
      "text/plain": [
       "array([[ 6],\n",
       "       [ 8],\n",
       "       [10],\n",
       "       [11]])"
      ]
     },
     "execution_count": 172,
     "metadata": {},
     "output_type": "execute_result"
    }
   ],
   "source": [
    "a + b                                 # Suma de vectores\n",
    "np.add(a, b)                                 "
   ]
  },
  {
   "cell_type": "code",
   "execution_count": 173,
   "metadata": {},
   "outputs": [
    {
     "data": {
      "text/plain": [
       "array([[-4],\n",
       "       [-4],\n",
       "       [-4],\n",
       "       [-3]])"
      ]
     },
     "execution_count": 173,
     "metadata": {},
     "output_type": "execute_result"
    }
   ],
   "source": [
    "a - b                                 # Resta de vectores\n",
    "np.subtract(a, b)"
   ]
  },
  {
   "cell_type": "code",
   "execution_count": 156,
   "metadata": {},
   "outputs": [
    {
     "data": {
      "text/plain": [
       "array([[ 1],\n",
       "       [ 4],\n",
       "       [ 9],\n",
       "       [16]])"
      ]
     },
     "execution_count": 156,
     "metadata": {},
     "output_type": "execute_result"
    }
   ],
   "source": [
    "np.square(a)                          # Elevar al cuadrado "
   ]
  },
  {
   "cell_type": "code",
   "execution_count": 176,
   "metadata": {},
   "outputs": [
    {
     "data": {
      "text/plain": [
       "array([[ 5],\n",
       "       [12],\n",
       "       [21],\n",
       "       [28]])"
      ]
     },
     "execution_count": 176,
     "metadata": {},
     "output_type": "execute_result"
    }
   ],
   "source": [
    "a * b                                 # Multiplicacion de dos vectores\n",
    "np.multiply(a, b)"
   ]
  },
  {
   "cell_type": "code",
   "execution_count": 177,
   "metadata": {},
   "outputs": [
    {
     "data": {
      "text/plain": [
       "array([[0.2       ],\n",
       "       [0.33333333],\n",
       "       [0.42857143],\n",
       "       [0.57142857]])"
      ]
     },
     "execution_count": 177,
     "metadata": {},
     "output_type": "execute_result"
    }
   ],
   "source": [
    "a / b                                 # Division de vectores\n",
    "np.divide(a, b)"
   ]
  },
  {
   "cell_type": "code",
   "execution_count": 168,
   "metadata": {},
   "outputs": [
    {
     "data": {
      "text/plain": [
       "array([[0.        ],\n",
       "       [0.69314718],\n",
       "       [1.09861229],\n",
       "       [1.38629436]])"
      ]
     },
     "execution_count": 168,
     "metadata": {},
     "output_type": "execute_result"
    }
   ],
   "source": [
    "np.log(a)                             # Logaritmo natural de un vector"
   ]
  },
  {
   "cell_type": "code",
   "execution_count": 178,
   "metadata": {},
   "outputs": [
    {
     "data": {
      "text/plain": [
       "array([[0.],\n",
       "       [1.],\n",
       "       [1.],\n",
       "       [1.]])"
      ]
     },
     "execution_count": 178,
     "metadata": {},
     "output_type": "execute_result"
    }
   ],
   "source": [
    "np.round(np.log(a))                   # Redondear los elementos de un vector"
   ]
  },
  {
   "cell_type": "markdown",
   "metadata": {},
   "source": [
    "#### B. Operaciones vectoriales\n",
    "Funciones del modulo numpy que operan sobre vectores."
   ]
  },
  {
   "cell_type": "code",
   "execution_count": 244,
   "metadata": {},
   "outputs": [
    {
     "name": "stdout",
     "output_type": "stream",
     "text": [
      "Vector fila: \n",
      "[1 4 6 3]\n"
     ]
    }
   ],
   "source": [
    "v1 = np.array([1,4,6,3])               # Vector fila\n",
    "print(\"Vector fila: \")\n",
    "print(v1)"
   ]
  },
  {
   "cell_type": "code",
   "execution_count": 239,
   "metadata": {},
   "outputs": [
    {
     "name": "stdout",
     "output_type": "stream",
     "text": [
      "Sumatoria:  14\n"
     ]
    }
   ],
   "source": [
    "print(\"Sumatoria: \", v1.sum())         # Suma "
   ]
  },
  {
   "cell_type": "code",
   "execution_count": 245,
   "metadata": {},
   "outputs": [
    {
     "name": "stdout",
     "output_type": "stream",
     "text": [
      "Media:  3.5\n"
     ]
    }
   ],
   "source": [
    "print(\"Media: \", v1.mean())            # Media"
   ]
  },
  {
   "cell_type": "code",
   "execution_count": 246,
   "metadata": {},
   "outputs": [
    {
     "name": "stdout",
     "output_type": "stream",
     "text": [
      "Varianza:  3.25\n"
     ]
    }
   ],
   "source": [
    "print(\"Varianza: \", v1.var())          # Varianza"
   ]
  },
  {
   "cell_type": "code",
   "execution_count": 248,
   "metadata": {},
   "outputs": [
    {
     "name": "stdout",
     "output_type": "stream",
     "text": [
      "Desv. estandar:  1.8027756377319946\n"
     ]
    }
   ],
   "source": [
    "print(\"Desv. estandar: \", v1.std())    # Desviacion estandar"
   ]
  },
  {
   "cell_type": "code",
   "execution_count": 249,
   "metadata": {},
   "outputs": [
    {
     "name": "stdout",
     "output_type": "stream",
     "text": [
      "Maximo:  6\n"
     ]
    }
   ],
   "source": [
    "print(\"Maximo: \", np.max(v1))          # Valor maximo"
   ]
  },
  {
   "cell_type": "code",
   "execution_count": 250,
   "metadata": {},
   "outputs": [
    {
     "name": "stdout",
     "output_type": "stream",
     "text": [
      "Minimo:  1\n"
     ]
    }
   ],
   "source": [
    "print(\"Minimo: \", np.min(v1))          # Valor minimo"
   ]
  },
  {
   "cell_type": "code",
   "execution_count": 269,
   "metadata": {},
   "outputs": [
    {
     "name": "stdout",
     "output_type": "stream",
     "text": [
      "Producto interno:  32\n",
      "Producto interno:  32\n"
     ]
    }
   ],
   "source": [
    "# Producto interno/punto/escalar\n",
    "a1 = np.array([1,2,3])\n",
    "a2 = np.array([4,5,6])\n",
    "\n",
    "print(\"Producto interno: \", np.matmul(a1, a2))\n",
    "\n",
    "# Alternativamene, se puede usar la funcion np.dot()\n",
    "print(\"Producto interno: \", np.dot(a1, a2))"
   ]
  },
  {
   "cell_type": "code",
   "execution_count": 270,
   "metadata": {},
   "outputs": [
    {
     "data": {
      "text/plain": [
       "array([[ 4,  5,  6],\n",
       "       [ 8, 10, 12],\n",
       "       [12, 15, 18]])"
      ]
     },
     "execution_count": 270,
     "metadata": {},
     "output_type": "execute_result"
    }
   ],
   "source": [
    "# Producto externo\n",
    "np.outer(a1, a2)\n",
    "\n",
    "# Es equivalente a la siguiente operacion\n",
    "a1.reshape(1,3).transpose() * a2"
   ]
  },
  {
   "cell_type": "markdown",
   "metadata": {},
   "source": [
    "#### C. Operaciones con matrices"
   ]
  },
  {
   "cell_type": "code",
   "execution_count": 283,
   "metadata": {},
   "outputs": [
    {
     "name": "stdout",
     "output_type": "stream",
     "text": [
      "Matriz A: \n",
      "[[0.29456251 0.73356772]\n",
      " [0.55385491 0.48131264]\n",
      " [0.38750591 0.92696382]]\n",
      "\n",
      "Matriz B: \n",
      "[[0.81399665 0.46231692 0.32815725 0.88794081]\n",
      " [0.3969659  0.46158877 0.03232492 0.2181898 ]]\n"
     ]
    }
   ],
   "source": [
    "A = np.random.rand(3,2)\n",
    "B = np.random.rand(2,4)\n",
    "\n",
    "print(\"Matriz A: \")\n",
    "print(A)\n",
    "print(\"\\nMatriz B: \")\n",
    "print(B)"
   ]
  },
  {
   "cell_type": "code",
   "execution_count": 285,
   "metadata": {},
   "outputs": [
    {
     "data": {
      "text/plain": [
       "array([[0.53097427, 0.47478785, 0.12037534, 0.42161107],\n",
       "       [0.64190075, 0.478225  , 0.1973099 , 0.59680788],\n",
       "       [0.68340154, 0.60702663, 0.15712691, 0.54633637]])"
      ]
     },
     "execution_count": 285,
     "metadata": {},
     "output_type": "execute_result"
    }
   ],
   "source": [
    "np.matmul(A, B)                         # Multiplicacion"
   ]
  },
  {
   "cell_type": "code",
   "execution_count": 288,
   "metadata": {},
   "outputs": [],
   "source": [
    "A1 = np.array([[1,2],                   # Matriz 3x2\n",
    "               [3,4],\n",
    "               [5,6]]); \n",
    "b1 = np.array([5,6,7]);                 # Vector 1x3\n",
    "\n"
   ]
  }
 ],
 "metadata": {
  "kernelspec": {
   "display_name": "Python 3",
   "language": "python",
   "name": "python3"
  },
  "language_info": {
   "codemirror_mode": {
    "name": "ipython",
    "version": 3
   },
   "file_extension": ".py",
   "mimetype": "text/x-python",
   "name": "python",
   "nbconvert_exporter": "python",
   "pygments_lexer": "ipython3",
   "version": "3.6.5"
  }
 },
 "nbformat": 4,
 "nbformat_minor": 2
}
